{
 "cells": [
  {
   "cell_type": "code",
   "execution_count": 1,
   "metadata": {},
   "outputs": [],
   "source": [
    "from drone_detection import DroneDetect"
   ]
  },
  {
   "cell_type": "code",
   "execution_count": 3,
   "metadata": {},
   "outputs": [
    {
     "name": "stdout",
     "output_type": "stream",
     "text": [
      "\n",
      "image 1/1 /Users/nikolay/Documents/repos/whybee-coding/Image-of-Five-Drones-in-The-Sky-at-Sunset.jpg: 192x256 3 drones, 15.0ms\n",
      "Speed: 0.7ms preprocess, 15.0ms inference, 0.6ms postprocess per image at shape (1, 3, 192, 256)\n"
     ]
    }
   ],
   "source": [
    "model_path = '/Users/nikolay/Documents/repos/whybee-coding/models/best.pt'\n",
    "image_path = '/Users/nikolay/Documents/repos/whybee-coding/Image-of-Five-Drones-in-The-Sky-at-Sunset.jpg'\n",
    "\n",
    "drone_detect = DroneDetect(model_path = model_path, iou = 0.6, conf = 0.5)\n",
    "results = drone_detect.pipeline(image_path)"
   ]
  }
 ],
 "metadata": {
  "kernelspec": {
   "display_name": "Python 3",
   "language": "python",
   "name": "python3"
  },
  "language_info": {
   "codemirror_mode": {
    "name": "ipython",
    "version": 3
   },
   "file_extension": ".py",
   "mimetype": "text/x-python",
   "name": "python",
   "nbconvert_exporter": "python",
   "pygments_lexer": "ipython3",
   "version": "3.9.12"
  },
  "orig_nbformat": 4
 },
 "nbformat": 4,
 "nbformat_minor": 2
}
